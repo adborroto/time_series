{
 "cells": [
  {
   "cell_type": "code",
   "execution_count": 16,
   "metadata": {},
   "outputs": [],
   "source": [
    "from statsmodels.tsa.arima_model import ARMA\n",
    "import matplotlib.pyplot as plt\n",
    "import pandas as pd\n",
    "import numpy as np\n",
    "import warnings\n",
    "\n",
    "raw_csv_data = pd.read_csv(\"df/Index2018.csv\") \n",
    "df=raw_csv_data.copy()\n",
    "df.date = pd.to_datetime(df.date, dayfirst = True)\n",
    "df.set_index(\"date\", inplace=True)\n",
    "df=df.asfreq('b')\n",
    "df=df.fillna(method='ffill')\n",
    "\n"
   ]
  },
  {
   "cell_type": "code",
   "execution_count": 11,
   "metadata": {},
   "outputs": [
    {
     "data": {
      "text/html": [
       "<table class=\"simpletable\">\n",
       "<caption>ARMA Model Results</caption>\n",
       "<tr>\n",
       "  <th>Dep. Variable:</th>        <td>spx</td>       <th>  No. Observations:  </th>    <td>6277</td>   \n",
       "</tr>\n",
       "<tr>\n",
       "  <th>Model:</th>            <td>ARMA(0, 6)</td>    <th>  Log Likelihood     </th> <td>-32282.114</td>\n",
       "</tr>\n",
       "<tr>\n",
       "  <th>Method:</th>             <td>css-mle</td>     <th>  S.D. of innovations</th>   <td>41.401</td>  \n",
       "</tr>\n",
       "<tr>\n",
       "  <th>Date:</th>          <td>Sat, 30 May 2020</td> <th>  AIC                </th>  <td>64580.228</td>\n",
       "</tr>\n",
       "<tr>\n",
       "  <th>Time:</th>              <td>13:00:32</td>     <th>  BIC                </th>  <td>64634.185</td>\n",
       "</tr>\n",
       "<tr>\n",
       "  <th>Sample:</th>           <td>01-07-1994</td>    <th>  HQIC               </th>  <td>64598.923</td>\n",
       "</tr>\n",
       "<tr>\n",
       "  <th></th>                 <td>- 01-29-2018</td>   <th>                     </th>      <td> </td>    \n",
       "</tr>\n",
       "</table>\n",
       "<table class=\"simpletable\">\n",
       "<tr>\n",
       "      <td></td>         <th>coef</th>     <th>std err</th>      <th>z</th>      <th>P>|z|</th>  <th>[0.025</th>    <th>0.975]</th>  \n",
       "</tr>\n",
       "<tr>\n",
       "  <th>const</th>     <td> 1288.8319</td> <td>    8.242</td> <td>  156.382</td> <td> 0.000</td> <td> 1272.679</td> <td> 1304.985</td>\n",
       "</tr>\n",
       "<tr>\n",
       "  <th>ma.L1.spx</th> <td>    2.3215</td> <td>    0.012</td> <td>  190.522</td> <td> 0.000</td> <td>    2.298</td> <td>    2.345</td>\n",
       "</tr>\n",
       "<tr>\n",
       "  <th>ma.L2.spx</th> <td>    3.4295</td> <td>    0.023</td> <td>  146.658</td> <td> 0.000</td> <td>    3.384</td> <td>    3.475</td>\n",
       "</tr>\n",
       "<tr>\n",
       "  <th>ma.L3.spx</th> <td>    3.7034</td> <td>    0.028</td> <td>  131.207</td> <td> 0.000</td> <td>    3.648</td> <td>    3.759</td>\n",
       "</tr>\n",
       "<tr>\n",
       "  <th>ma.L4.spx</th> <td>    3.0035</td> <td>    0.025</td> <td>  119.345</td> <td> 0.000</td> <td>    2.954</td> <td>    3.053</td>\n",
       "</tr>\n",
       "<tr>\n",
       "  <th>ma.L5.spx</th> <td>    1.7323</td> <td>    0.017</td> <td>  101.238</td> <td> 0.000</td> <td>    1.699</td> <td>    1.766</td>\n",
       "</tr>\n",
       "<tr>\n",
       "  <th>ma.L6.spx</th> <td>    0.5884</td> <td>    0.008</td> <td>   70.273</td> <td> 0.000</td> <td>    0.572</td> <td>    0.605</td>\n",
       "</tr>\n",
       "</table>\n",
       "<table class=\"simpletable\">\n",
       "<caption>Roots</caption>\n",
       "<tr>\n",
       "    <td></td>   <th>            Real</th>  <th>         Imaginary</th> <th>         Modulus</th>  <th>        Frequency</th>\n",
       "</tr>\n",
       "<tr>\n",
       "  <th>MA.1</th> <td>           0.1185</td> <td>          -1.0388j</td> <td>           1.0455</td> <td>          -0.2319</td>\n",
       "</tr>\n",
       "<tr>\n",
       "  <th>MA.2</th> <td>           0.1185</td> <td>          +1.0388j</td> <td>           1.0455</td> <td>           0.2319</td>\n",
       "</tr>\n",
       "<tr>\n",
       "  <th>MA.3</th> <td>          -1.0496</td> <td>          -0.4073j</td> <td>           1.1258</td> <td>          -0.4411</td>\n",
       "</tr>\n",
       "<tr>\n",
       "  <th>MA.4</th> <td>          -1.0496</td> <td>          +0.4073j</td> <td>           1.1258</td> <td>           0.4411</td>\n",
       "</tr>\n",
       "<tr>\n",
       "  <th>MA.5</th> <td>          -0.5411</td> <td>          -0.9664j</td> <td>           1.1076</td> <td>          -0.3312</td>\n",
       "</tr>\n",
       "<tr>\n",
       "  <th>MA.6</th> <td>          -0.5411</td> <td>          +0.9664j</td> <td>           1.1076</td> <td>           0.3312</td>\n",
       "</tr>\n",
       "</table>"
      ],
      "text/plain": [
       "<class 'statsmodels.iolib.summary.Summary'>\n",
       "\"\"\"\n",
       "                              ARMA Model Results                              \n",
       "==============================================================================\n",
       "Dep. Variable:                    spx   No. Observations:                 6277\n",
       "Model:                     ARMA(0, 6)   Log Likelihood              -32282.114\n",
       "Method:                       css-mle   S.D. of innovations             41.401\n",
       "Date:                Sat, 30 May 2020   AIC                          64580.228\n",
       "Time:                        13:00:32   BIC                          64634.185\n",
       "Sample:                    01-07-1994   HQIC                         64598.923\n",
       "                         - 01-29-2018                                         \n",
       "==============================================================================\n",
       "                 coef    std err          z      P>|z|      [0.025      0.975]\n",
       "------------------------------------------------------------------------------\n",
       "const       1288.8319      8.242    156.382      0.000    1272.679    1304.985\n",
       "ma.L1.spx      2.3215      0.012    190.522      0.000       2.298       2.345\n",
       "ma.L2.spx      3.4295      0.023    146.658      0.000       3.384       3.475\n",
       "ma.L3.spx      3.7034      0.028    131.207      0.000       3.648       3.759\n",
       "ma.L4.spx      3.0035      0.025    119.345      0.000       2.954       3.053\n",
       "ma.L5.spx      1.7323      0.017    101.238      0.000       1.699       1.766\n",
       "ma.L6.spx      0.5884      0.008     70.273      0.000       0.572       0.605\n",
       "                                    Roots                                    \n",
       "=============================================================================\n",
       "                  Real          Imaginary           Modulus         Frequency\n",
       "-----------------------------------------------------------------------------\n",
       "MA.1            0.1185           -1.0388j            1.0455           -0.2319\n",
       "MA.2            0.1185           +1.0388j            1.0455            0.2319\n",
       "MA.3           -1.0496           -0.4073j            1.1258           -0.4411\n",
       "MA.4           -1.0496           +0.4073j            1.1258            0.4411\n",
       "MA.5           -0.5411           -0.9664j            1.1076           -0.3312\n",
       "MA.6           -0.5411           +0.9664j            1.1076            0.3312\n",
       "-----------------------------------------------------------------------------\n",
       "\"\"\""
      ]
     },
     "execution_count": 11,
     "metadata": {},
     "output_type": "execute_result"
    }
   ],
   "source": [
    "ma = ARMA(df.spx, order=(0,6))\n",
    "ma_fit = ma.fit()\n",
    "ma_fit.summary()"
   ]
  },
  {
   "cell_type": "code",
   "execution_count": 17,
   "metadata": {},
   "outputs": [
    {
     "data": {
      "image/png": "[encoded data removed]",
      "text/plain": [
       "<Figure size 432x288 with 1 Axes>"
      ]
     },
     "metadata": {
      "needs_background": "light"
     },
     "output_type": "display_data"
    }
   ],
   "source": [
    "import statsmodels.graphics.tsaplots as sgt\n",
    "\n",
    "sgt.plot_acf(df.spx, zero = False, lags=40)\n",
    "plt.show()"
   ]
  },
  {
   "cell_type": "code",
   "execution_count": 23,
   "metadata": {},
   "outputs": [
    {
     "name": "stderr",
     "output_type": "stream",
     "text": [
      "C:\\Users\\alejandro\\Anaconda3\\lib\\site-packages\\pandas\\plotting\\_matplotlib\\converter.py:103: FutureWarning: Using an implicitly registered datetime converter for a matplotlib plotting method. The converter was registered by pandas on import. Future versions of pandas will require you to explicitly register matplotlib converters.\n",
      "\n",
      "To register the converters:\n",
      "\t>>> from pandas.plotting import register_matplotlib_converters\n",
      "\t>>> register_matplotlib_converters()\n",
      "  warnings.warn(msg, FutureWarning)\n"
     ]
    },
    {
     "data": {
      "text/plain": [
       "[<matplotlib.lines.Line2D at 0x1fa9e061e08>]"
      ]
     },
     "execution_count": 23,
     "metadata": {},
     "output_type": "execute_result"
    },
    {
     "data": {
      "image/png": "[encoded data removed]",
      "text/plain": [
       "<Figure size 432x288 with 1 Axes>"
      ]
     },
     "metadata": {
      "needs_background": "light"
     },
     "output_type": "display_data"
    }
   ],
   "source": [
    "df['returns'] = df.spx.pct_change(1)*100\n",
    "plt.plot(df.returns[1:])"
   ]
  },
  {
   "cell_type": "code",
   "execution_count": 26,
   "metadata": {},
   "outputs": [
    {
     "data": {
      "image/png": "[encoded data removed]",
      "text/plain": [
       "<Figure size 432x288 with 1 Axes>"
      ]
     },
     "metadata": {
      "needs_background": "light"
     },
     "output_type": "display_data"
    }
   ],
   "source": [
    "\n",
    "sgt.plot_acf(df.returns[1:], zero = False, lags=40)\n",
    "plt.show()"
   ]
  },
  {
   "cell_type": "code",
   "execution_count": 37,
   "metadata": {},
   "outputs": [
    {
     "name": "stdout",
     "output_type": "stream",
     "text": [
      "Es estacionaria: True con P-value 1.9848251568202323e-26\n"
     ]
    }
   ],
   "source": [
    "import statsmodels.tsa.stattools as sts\n",
    "adfuller_result = sts.adfuller(df.returns[1:])\n",
    "print('Es estacionaria: {} con P-value {}'.format(adfuller_result[1] < 0.05, adfuller_result[1]))"
   ]
  },
  {
   "cell_type": "code",
   "execution_count": 40,
   "metadata": {},
   "outputs": [
    {
     "name": "stdout",
     "output_type": "stream",
     "text": [
      "Es estacionaria: False con P-value 0.9947754699211256\n"
     ]
    }
   ],
   "source": [
    "resid = ma_fit.resid[1:]\n",
    "adfuller_resid_result = sts.adfuller(resid)\n",
    "print('Es estacionaria: {} con P-value {}'.format(adfuller_resid_result[1] < 0.05, adfuller_resid_result[1]))"
   ]
  },
  {
   "cell_type": "code",
   "execution_count": 43,
   "metadata": {},
   "outputs": [
    {
     "data": {
      "text/plain": [
       "[<matplotlib.lines.Line2D at 0x1faa2186cc8>]"
      ]
     },
     "execution_count": 43,
     "metadata": {},
     "output_type": "execute_result"
    },
    {
     "data": {
      "image/png": "[encoded data removed]",
      "text/plain": [
       "<Figure size 432x288 with 1 Axes>"
      ]
     },
     "metadata": {
      "needs_background": "light"
     },
     "output_type": "display_data"
    }
   ],
   "source": [
    "plt.plot(resid)"
   ]
  }
 ],
 "metadata": {
  "kernelspec": {
   "display_name": "Python 3",
   "language": "python",
   "name": "python3"
  },
  "language_info": {
   "codemirror_mode": {
    "name": "ipython",
    "version": 3
   },
   "file_extension": ".py",
   "mimetype": "text/x-python",
   "name": "python",
   "nbconvert_exporter": "python",
   "pygments_lexer": "ipython3",
   "version": "3.7.4"
  }
 },
 "nbformat": 4,
 "nbformat_minor": 2
}
